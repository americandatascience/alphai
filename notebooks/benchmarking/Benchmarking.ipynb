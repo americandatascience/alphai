{
 "cells": [
  {
   "cell_type": "markdown",
   "id": "d5f28b26-2469-4ddb-bfdc-75e3494ff807",
   "metadata": {},
   "source": [
    "# Benchmarking\n",
    "\n",
    "AlphAI provides a very pythonic and simple approach to time and benchmark your code and callables (functions).\n",
    "\n",
    "Using these tools do not require authentication."
   ]
  },
  {
   "cell_type": "markdown",
   "id": "70ae6116-bffa-4a2c-88ab-9e786a9712c4",
   "metadata": {},
   "source": [
    "## Timing\n",
    "\n",
    "Let's instantiate the `AlphAI` object and create a python function to time and benchmark:"
   ]
  },
  {
   "cell_type": "code",
   "execution_count": null,
   "id": "2f143c4d-cec5-416b-ad85-8e1bd7ef000d",
   "metadata": {},
   "outputs": [],
   "source": [
    "import os\n",
    "from alphai import AlphAI\n",
    "\n",
    "aai = AlphAI()"
   ]
  },
  {
   "cell_type": "code",
   "execution_count": null,
   "id": "0f9ae81b-2002-466c-b4b1-978e4bffcfc3",
   "metadata": {},
   "outputs": [],
   "source": [
    "import time\n",
    "\n",
    "# Sleep for x+y seconds\n",
    "def add_sleep(x, y):\n",
    "    time.sleep(x+y)"
   ]
  },
  {
   "cell_type": "markdown",
   "id": "2706002d-9242-4584-9fac-b6dd956485c2",
   "metadata": {},
   "source": [
    "Now let's see how long it takes to run this function. It should take around 0.055 seconds; simple!"
   ]
  },
  {
   "cell_type": "code",
   "execution_count": null,
   "id": "1d563ad7-edf3-4434-bcd2-7a2521bf91c9",
   "metadata": {},
   "outputs": [],
   "source": [
    "x = 0.05\n",
    "y = 0.005\n",
    "\n",
    "aai.start_timer()\n",
    "add_sleep(x, y)\n",
    "aai.stop_timer()"
   ]
  },
  {
   "cell_type": "markdown",
   "id": "88c48773-33f9-4724-ac5c-5b00bd1cc5ad",
   "metadata": {},
   "source": [
    "## Benchmark\n",
    "\n",
    "Our `benchmark()` is currently really a timer, but evaluation by comparison is a simple step. Also note that `benchmark` works with key word arguments as well."
   ]
  },
  {
   "cell_type": "code",
   "execution_count": null,
   "id": "b8a1b6b8-6530-4680-85a8-79bbf5c41c6a",
   "metadata": {},
   "outputs": [],
   "source": [
    "x_ = 0.01\n",
    "y_ = 0.001"
   ]
  },
  {
   "cell_type": "code",
   "execution_count": null,
   "id": "fcabee93-c3ac-4eda-bc97-f1c0e8ae0d5b",
   "metadata": {},
   "outputs": [],
   "source": [
    "aai.benchmark(add_sleep, x, y, num_iter=100)"
   ]
  },
  {
   "cell_type": "code",
   "execution_count": null,
   "id": "7209c3ee-15df-4a41-8e5f-08d679a1b9b1",
   "metadata": {},
   "outputs": [],
   "source": [
    "aai.benchmark(add_sleep, x_, y_, num_iter=100)"
   ]
  },
  {
   "cell_type": "markdown",
   "id": "8d42850f-b849-4e4a-9199-00a3b49ca418",
   "metadata": {},
   "source": [
    "### Key Word Arguments"
   ]
  },
  {
   "cell_type": "code",
   "execution_count": null,
   "id": "53e5198b-5362-432f-a9b2-5a09a1da911b",
   "metadata": {},
   "outputs": [],
   "source": [
    "# Sleep for x+y seconds\n",
    "def add_sleep_kw(x, y = 0.005):\n",
    "    time.sleep(x+y)"
   ]
  },
  {
   "cell_type": "code",
   "execution_count": null,
   "id": "bcbe34b5-d336-4902-90f5-906794c87ef3",
   "metadata": {},
   "outputs": [],
   "source": [
    "aai.benchmark(add_sleep_kw, x_, y=y_, num_iter=100)"
   ]
  },
  {
   "cell_type": "markdown",
   "id": "a2d086f0-4f5e-42b4-a41e-e38a381fcc45",
   "metadata": {},
   "source": [
    "## Example with PyTorch\n",
    "\n",
    "Why don't we try this on a forward pass of a PyTorch model!"
   ]
  },
  {
   "cell_type": "code",
   "execution_count": null,
   "id": "a2cb940b-0f59-4828-963a-0f5da62e1682",
   "metadata": {},
   "outputs": [],
   "source": [
    "aai.start_timer()\n",
    "output = aai.generate(\"Hello!\")\n",
    "aai.stop_timer()"
   ]
  },
  {
   "cell_type": "code",
   "execution_count": null,
   "id": "7850d558-fa2b-4522-9773-58b99e839c59",
   "metadata": {},
   "outputs": [],
   "source": [
    "aai.benchmark(aai.generate, \"Hello!\", num_iter = 5)"
   ]
  },
  {
   "cell_type": "code",
   "execution_count": null,
   "id": "e590cdd6-1d7a-421f-b4c0-bf193e134746",
   "metadata": {},
   "outputs": [],
   "source": []
  }
 ],
 "metadata": {
  "kernelspec": {
   "display_name": "Python 3 (ipykernel)",
   "language": "python",
   "name": "python3"
  },
  "language_info": {
   "codemirror_mode": {
    "name": "ipython",
    "version": 3
   },
   "file_extension": ".py",
   "mimetype": "text/x-python",
   "name": "python",
   "nbconvert_exporter": "python",
   "pygments_lexer": "ipython3",
   "version": "3.10.12"
  }
 },
 "nbformat": 4,
 "nbformat_minor": 5
}
