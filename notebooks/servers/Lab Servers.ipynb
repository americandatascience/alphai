{
 "cells": [
  {
   "cell_type": "markdown",
   "id": "2c0822f9-e634-4656-8dfe-77b64b6cddfd",
   "metadata": {},
   "source": [
    "# Jupyter Lab Servers\n",
    "\n",
    "AlphAI integrates directly with American Data Science's remote Jupyter Lab servers.\n",
    "\n",
    "You can start servers, stop servers, upload files to your remote file system, load GPU profiling data, and even run code programmatically!\n",
    "\n",
    "Using these tools require authentication."
   ]
  },
  {
   "cell_type": "markdown",
   "id": "16113c2d-990b-4173-b810-e895bcda9004",
   "metadata": {},
   "source": [
    "## American Data Science Client\n",
    "\n",
    "Let's instantiate the `AlphAI` object to profile our tensor run with PyTorch."
   ]
  },
  {
   "cell_type": "code",
   "execution_count": null,
   "id": "92f2cadd-3202-4be2-8693-e7c800d70998",
   "metadata": {
    "scrolled": true
   },
   "outputs": [],
   "source": [
    "import os\n",
    "from dotenv import load_dotenv\n",
    "\n",
    "# Make a `.env` file that contains the following line\n",
    "ALPHAI_API_KEY=<your-api-key>\n",
    "\n",
    "load_dotenv()"
   ]
  },
  {
   "cell_type": "code",
   "execution_count": null,
   "id": "727890f4-8227-41f2-ae9b-af30d1e4b9f4",
   "metadata": {},
   "outputs": [],
   "source": [
    "import os\n",
    "from alphai import AlphAI\n",
    "\n",
    "aai = AlphAI(\n",
    "    # Don't need this line if you ran load_dotenv()\n",
    "    api_key=ALPHAI_API_KEY\n",
    ")"
   ]
  },
  {
   "cell_type": "markdown",
   "id": "14ca5c91-a422-471a-9b02-40d5be55fe0f",
   "metadata": {},
   "source": [
    "## Start your remote Jupyter Lab servers"
   ]
  },
  {
   "cell_type": "code",
   "execution_count": null,
   "id": "1f6b0b6a-6459-44f6-b1ac-b66af0651752",
   "metadata": {},
   "outputs": [],
   "source": [
    "aai.start_server(server_name=\"sandbox\", environment=\"ai\")"
   ]
  },
  {
   "cell_type": "code",
   "execution_count": null,
   "id": "cef8964e-c47c-4856-bd8d-6e119b8c1216",
   "metadata": {},
   "outputs": [],
   "source": [
    "aai.stop_server(server_name=\"sandbox\")"
   ]
  },
  {
   "cell_type": "markdown",
   "id": "bb45cc88-8369-4690-91a0-32d07f14202e",
   "metadata": {},
   "source": [
    "## Command Agent Alph"
   ]
  },
  {
   "cell_type": "code",
   "execution_count": null,
   "id": "c4cd9b2c-a9e5-48a7-be32-d0837d1dd8df",
   "metadata": {},
   "outputs": [],
   "source": [
    "response = aai.alph(server_name=\"default\", messages=\"I need a python file that analyzes a generic csv file.\", engine=\"gpt3\")"
   ]
  },
  {
   "cell_type": "markdown",
   "id": "9e833ee5-8572-42bd-b2e6-cc8d4687f603",
   "metadata": {},
   "source": [
    "## Run code remotely\n",
    "\n",
    "Alphai allows you to run and \"deploy\" your code given a string or file path. Your server will automatically start a kernel and run your code remotely.\n",
    "\n",
    "All servers will also run a tunnel on port 5000, so you could even check out your running servers and apps hosted directly from the server!\n",
    "\n"
   ]
  },
  {
   "cell_type": "code",
   "execution_count": null,
   "id": "9949e9fe-477f-45fe-8682-f0b90d8695d5",
   "metadata": {},
   "outputs": [],
   "source": [
    "hf_code = \"\"\"from transformers import pipeline\n",
    "import gradio as gr\n",
    "gr.close_all()\n",
    "pipe = pipeline(\"translation\", model=\"Helsinki-NLP/opus-mt-en-de\")\n",
    "demo = gr.Interface.from_pipeline(pipe)\n",
    "demo.launch(server_port=5000, inline=False)\"\"\"\n",
    "\n",
    "aai.run_code(hf_code, clear_other_kernels=True)"
   ]
  },
  {
   "cell_type": "code",
   "execution_count": null,
   "id": "ec9fcf9e-35a2-4720-bb00-5231ce0b41a5",
   "metadata": {},
   "outputs": [],
   "source": [
    "aai.get_service()"
   ]
  },
  {
   "cell_type": "markdown",
   "id": "9a9edd70-f120-4388-ba0f-136771343819",
   "metadata": {},
   "source": [
    "# Upload local files to server"
   ]
  },
  {
   "cell_type": "code",
   "execution_count": null,
   "id": "7a0861f3-d9f0-498d-b4d4-e1cdb3592674",
   "metadata": {},
   "outputs": [],
   "source": [
    "aai.upload(file_path=\"./test.py\")"
   ]
  },
  {
   "cell_type": "code",
   "execution_count": null,
   "id": "a35a3d58-fad9-46a4-a674-8d77da845b24",
   "metadata": {},
   "outputs": [],
   "source": []
  }
 ],
 "metadata": {
  "kernelspec": {
   "display_name": "Python 3 (ipykernel)",
   "language": "python",
   "name": "python3"
  },
  "language_info": {
   "codemirror_mode": {
    "name": "ipython",
    "version": 3
   },
   "file_extension": ".py",
   "mimetype": "text/x-python",
   "name": "python",
   "nbconvert_exporter": "python",
   "pygments_lexer": "ipython3",
   "version": "3.11.0rc1"
  }
 },
 "nbformat": 4,
 "nbformat_minor": 5
}
