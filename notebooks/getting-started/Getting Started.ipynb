{
 "cells": [
  {
   "cell_type": "markdown",
   "id": "c0028500-3f20-4b6a-815a-c47fe3f849f3",
   "metadata": {},
   "source": [
    "# Getting Started\n",
    "\n",
    "AlphAI is a powerful and high-level tool for running analytics, LLMs, and profiling on GPU servers. It also provides you with a client to American Data Science Labs for powerful control over your remote Jupyter Lab servers and environment runtimes.\n",
    "\n",
    "If you're familiar with python, you can install AlphAI with pip, the python package manager."
   ]
  },
  {
   "cell_type": "markdown",
   "id": "1f852312-80c0-476b-b48f-8c839ace0740",
   "metadata": {},
   "source": [
    "## Installation\n",
    "\n",
    "### with pip\n",
    "\n",
    "Install the python package by running `pip install alphai`.\n",
    "\n",
    "To run profiling and model inference on GPUs with alphai, an installation of PyTorch in a Linux OS with CUDA-enabled is required.\n",
    "\n",
    "Benchmarking, American Data Science client, and other model utilities will work without a GPU, Linux OS, or PyTorch installed.\n",
    "\n",
    "If your CUDA drivers are up to date, you can install alphai with GPU-enabled torch by running `pip install alphai[torch]`.\n"
   ]
  },
  {
   "cell_type": "markdown",
   "id": "41c87488-77e0-4748-b3c6-9f886a697710",
   "metadata": {},
   "source": [
    "### Authentication Pre-requisites\n",
    "\n",
    "Although not strictly required to use the computational functions of the alphai package, it is recommended to create an account at [American Data Science](https://dashboard.amdatascience.com) and generate an API key to make use of your two free remote Jupyter Lab servers.\n",
    "\n",
    "You don't need an API key to use the GPU profiling, benchmarking, and generate modules."
   ]
  },
  {
   "cell_type": "markdown",
   "id": "911a0365-3188-4f60-bcc0-e9d95d58bf81",
   "metadata": {},
   "source": [
    "## American Data Science Labs\n",
    "\n",
    "If you're authenticated with your AmDS account and api key, you can start and stop your servers."
   ]
  },
  {
   "cell_type": "code",
   "execution_count": null,
   "id": "2cf51429-52bc-4f1b-bf3c-000ce4046390",
   "metadata": {},
   "outputs": [],
   "source": [
    "import os\n",
    "from alphai import AlphAI\n",
    "\n",
    "aai = AlphAI(\n",
    "    api_key=os.environ.get(\"ALPHAI_API_KEY\"),\n",
    ")\n",
    "\n",
    "# Starting default server\n",
    "# May take a moment to get ready\n",
    "aai.start_server()"
   ]
  },
  {
   "cell_type": "code",
   "execution_count": null,
   "id": "d7f1538d-70f7-46f4-b33e-a2616ae06469",
   "metadata": {},
   "outputs": [],
   "source": [
    "aai.stop_server()"
   ]
  },
  {
   "cell_type": "code",
   "execution_count": null,
   "id": "9d4c168f-d267-4ca9-8d92-14e90dd82f1b",
   "metadata": {},
   "outputs": [],
   "source": []
  }
 ],
 "metadata": {
  "kernelspec": {
   "display_name": "Python 3 (ipykernel)",
   "language": "python",
   "name": "python3"
  },
  "language_info": {
   "codemirror_mode": {
    "name": "ipython",
    "version": 3
   },
   "file_extension": ".py",
   "mimetype": "text/x-python",
   "name": "python",
   "nbconvert_exporter": "python",
   "pygments_lexer": "ipython3",
   "version": "3.10.12"
  }
 },
 "nbformat": 4,
 "nbformat_minor": 5
}
