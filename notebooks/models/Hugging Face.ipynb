{
 "cells": [
  {
   "cell_type": "markdown",
   "id": "ad121679-cc98-46dd-af81-c3bfcb7f7414",
   "metadata": {},
   "source": [
    "# Hugging Face\n",
    "\n",
    "AlphAI includes many useful integrations with Hugging Face's open source libraries and AI community. Check out what you can do below"
   ]
  },
  {
   "cell_type": "code",
   "execution_count": null,
   "id": "9cc41963-3511-42ac-a1fe-cbbd7c4d9a23",
   "metadata": {},
   "outputs": [],
   "source": [
    "import os\n",
    "from alphai import AlphAI\n",
    "\n",
    "aai = AlphAI()"
   ]
  },
  {
   "cell_type": "markdown",
   "id": "035b3e5b-c3f3-4926-a3d8-7dac045d283e",
   "metadata": {},
   "source": [
    "## Estimate Memory Requirement\n",
    "\n",
    "Fun fact: the number of parameters you see in a the name of the model i.e. 3B, 7B, 40B, can easily be converted into a rough estimate of the minimum GB required for your GPU VRAM. Just mulitply by the number by 2 if the parameter dtype is float16 or by 4 if float32!\n",
    "\n",
    "We've got a fun little helper function to estimate it without even loading the model."
   ]
  },
  {
   "cell_type": "code",
   "execution_count": null,
   "id": "74f7e114-7177-4910-b77b-2e8e9cee0723",
   "metadata": {},
   "outputs": [],
   "source": [
    "aai.estimate_memory_requirement(model_name=\"stabilityai/stablelm-zephyr-3b\")"
   ]
  },
  {
   "cell_type": "markdown",
   "id": "d5042b7b-1bcf-4efe-a7c0-70f86bf97980",
   "metadata": {},
   "source": [
    "## Run Generate\n",
    "\n",
    "You can run local LLMs on GPUs, and we integrate with many open source Hugging Face models."
   ]
  },
  {
   "cell_type": "code",
   "execution_count": null,
   "id": "dd569970-7967-4f21-bc96-ba0b51c314d3",
   "metadata": {},
   "outputs": [],
   "source": [
    "output = aai.generate(\"I need a python function that generates the fibonacci sequence recursively.\")"
   ]
  },
  {
   "cell_type": "markdown",
   "id": "fc8f48c4-1aea-4e0e-9844-7708a1c2c0dd",
   "metadata": {},
   "source": [
    "## Memory Requirement\n",
    "\n",
    "Now you can get a fairly more accurate size of the model and memory requirement now that the model is loaded."
   ]
  },
  {
   "cell_type": "code",
   "execution_count": null,
   "id": "ea2fe950-d345-4ddf-b6a6-ffe73ebb9d97",
   "metadata": {},
   "outputs": [],
   "source": [
    "aai.memory_requirement(model_name_or_path=\"stabilityai/stablelm-zephyr-3b\")"
   ]
  },
  {
   "cell_type": "code",
   "execution_count": null,
   "id": "07f7d12e-1cb2-4e4c-85c9-60b307de50a0",
   "metadata": {},
   "outputs": [],
   "source": []
  }
 ],
 "metadata": {
  "kernelspec": {
   "display_name": "Python 3 (ipykernel)",
   "language": "python",
   "name": "python3"
  },
  "language_info": {
   "codemirror_mode": {
    "name": "ipython",
    "version": 3
   },
   "file_extension": ".py",
   "mimetype": "text/x-python",
   "name": "python",
   "nbconvert_exporter": "python",
   "pygments_lexer": "ipython3",
   "version": "3.10.12"
  }
 },
 "nbformat": 4,
 "nbformat_minor": 5
}
