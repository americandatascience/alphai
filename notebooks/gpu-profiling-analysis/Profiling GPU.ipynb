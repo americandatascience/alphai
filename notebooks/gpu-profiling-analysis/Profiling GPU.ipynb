{
 "cells": [
  {
   "cell_type": "markdown",
   "id": "8f15349d-2c8c-4f14-810f-9208ce2a2106",
   "metadata": {},
   "source": [
    "# Profiling GPU\n",
    "\n",
    "AlphAI provides a simple and straight forward profiling process to analyze your tensor processes on your GPUs.\n",
    "\n",
    "Using these tools do not require authentication. However, authentication is required for `load_view()`."
   ]
  },
  {
   "cell_type": "markdown",
   "id": "8c41169a-a100-4881-a6ee-af698b3f8e9d",
   "metadata": {},
   "source": [
    "## Profiling with PyTorch\n",
    "\n",
    "Let's instantiate the `AlphAI` object to profile our tensor run with PyTorch."
   ]
  },
  {
   "cell_type": "code",
   "execution_count": null,
   "id": "2e2eb71d-33b8-4eb4-acd1-956460aa01d3",
   "metadata": {},
   "outputs": [],
   "source": [
    "import os\n",
    "from alphai import AlphAI\n",
    "\n",
    "aai = AlphAI()"
   ]
  },
  {
   "cell_type": "markdown",
   "id": "66f016ad-5a4a-4cb0-8efe-a332ebb3014b",
   "metadata": {},
   "source": [
    "### With start() and stop()"
   ]
  },
  {
   "cell_type": "code",
   "execution_count": null,
   "id": "705f214c-cc24-4576-9f64-867dc9a992a0",
   "metadata": {},
   "outputs": [],
   "source": [
    "import torch\n",
    "import math\n",
    "\n",
    "aai.start()\n",
    "model = torch.nn.Sequential(\n",
    "    torch.nn.Linear(3, 1),\n",
    "    torch.nn.Flatten(0, 1)\n",
    ")\n",
    "x = torch.linspace(-math.pi, math.pi, 2000)\n",
    "p = torch.tensor([1, 2, 3])\n",
    "xx = x.unsqueeze(-1).pow(p)\n",
    "aai.stop()\n",
    "\n"
   ]
  },
  {
   "cell_type": "markdown",
   "id": "a99267fa-655c-432d-951a-c420173babae",
   "metadata": {},
   "source": [
    "### With context manager"
   ]
  },
  {
   "cell_type": "code",
   "execution_count": null,
   "id": "6039de53-9ddf-4f77-8d48-6ea726c80891",
   "metadata": {},
   "outputs": [],
   "source": [
    "with aai:\n",
    "    model = torch.nn.Sequential(\n",
    "        torch.nn.Linear(3, 1),\n",
    "        torch.nn.Flatten(0, 1)\n",
    "    )\n",
    "    x = torch.linspace(-math.pi, math.pi, 2000)\n",
    "    p = torch.tensor([1, 2, 3])\n",
    "    xx = x.unsqueeze(-1).pow(p)\n"
   ]
  },
  {
   "cell_type": "markdown",
   "id": "7a5b36ba-661a-4b05-b77e-4ed8719d007a",
   "metadata": {},
   "source": [
    "### Run profiler analytics"
   ]
  },
  {
   "cell_type": "code",
   "execution_count": null,
   "id": "7d0085db-8439-4c43-9838-7a490f11eb6d",
   "metadata": {},
   "outputs": [],
   "source": [
    "aai.run_profiler_analysis()"
   ]
  },
  {
   "cell_type": "code",
   "execution_count": null,
   "id": "3908a630-b18d-4ae8-a7a3-8ebc0c7cc77a",
   "metadata": {},
   "outputs": [],
   "source": [
    "aai.get_averages()"
   ]
  },
  {
   "cell_type": "markdown",
   "id": "3b811de2-3542-4c30-8233-a203f1ee4f31",
   "metadata": {},
   "source": [
    "### Save"
   ]
  },
  {
   "cell_type": "code",
   "execution_count": null,
   "id": "58058f2e-52fb-44e9-9f3c-02daf4c80084",
   "metadata": {},
   "outputs": [],
   "source": [
    "aai.save()"
   ]
  },
  {
   "cell_type": "markdown",
   "id": "bfa90292-92f6-4833-a5ee-9060ea66f480",
   "metadata": {},
   "source": [
    "## Profile and Load View\n",
    "\n",
    "If you'd like to run `load_view()` and to see your GPU usage statistics and more, you'll need to authenticate."
   ]
  },
  {
   "cell_type": "code",
   "execution_count": null,
   "id": "67b92f2e-f36f-4348-861c-1b8b8f49b77c",
   "metadata": {},
   "outputs": [],
   "source": [
    "import os\n",
    "from dotenv import load_dotenv\n",
    "\n",
    "# Make a `.env` file that contains the following line\n",
    "# ALPHAI_API_KEY=<your-api-key>\n",
    "\n",
    "\n",
    "load_dotenv()"
   ]
  },
  {
   "cell_type": "code",
   "execution_count": null,
   "id": "ed982ed6-99ee-4f23-9ad7-5f1427a44007",
   "metadata": {},
   "outputs": [],
   "source": [
    "import os\n",
    "from alphai import AlphAI\n",
    "\n",
    "aai = AlphAI(\n",
    "    # Don't need this line if you ran load_dotenv()\n",
    "    api_key=os.environ.get(\"ALPHAI_API_KEY\"),\n",
    ")"
   ]
  },
  {
   "cell_type": "code",
   "execution_count": null,
   "id": "5294d6ab-7f61-4214-b499-33e1421cd907",
   "metadata": {},
   "outputs": [],
   "source": [
    "aai.start()\n",
    "model = torch.nn.Sequential(\n",
    "    torch.nn.Linear(3, 1),\n",
    "    torch.nn.Flatten(0, 1)\n",
    ")\n",
    "x = torch.linspace(-math.pi, math.pi, 2000)\n",
    "p = torch.tensor([1, 2, 3])\n",
    "xx = x.unsqueeze(-1).pow(p)\n",
    "aai.stop()\n",
    "\n",
    "aai.run_profiler_analysis()\n",
    "aai.save()"
   ]
  },
  {
   "cell_type": "code",
   "execution_count": null,
   "id": "35d8cdbc-f7f4-42ec-bcc0-923aceda8661",
   "metadata": {},
   "outputs": [],
   "source": [
    "aai.load_view()"
   ]
  },
  {
   "cell_type": "code",
   "execution_count": null,
   "id": "1235a8d1-086f-4b6a-9baa-a419d140c11c",
   "metadata": {},
   "outputs": [],
   "source": []
  }
 ],
 "metadata": {
  "kernelspec": {
   "display_name": "Python 3 (ipykernel)",
   "language": "python",
   "name": "python3"
  },
  "language_info": {
   "codemirror_mode": {
    "name": "ipython",
    "version": 3
   },
   "file_extension": ".py",
   "mimetype": "text/x-python",
   "name": "python",
   "nbconvert_exporter": "python",
   "pygments_lexer": "ipython3",
   "version": "3.10.12"
  }
 },
 "nbformat": 4,
 "nbformat_minor": 5
}
